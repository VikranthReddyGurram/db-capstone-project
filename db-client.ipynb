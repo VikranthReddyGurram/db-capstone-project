{
 "cells": [
  {
   "cell_type": "markdown",
   "id": "d7fe35a9-4668-4d21-a51f-7ac2ca4deefe",
   "metadata": {},
   "source": [
    "# Database Client"
   ]
  },
  {
   "cell_type": "markdown",
   "id": "0a9565fb-962b-4f48-a63b-a9dfc6f64b9e",
   "metadata": {},
   "source": [
    "### Prerequisites"
   ]
  },
  {
   "cell_type": "code",
   "execution_count": 1,
   "id": "41a34991-9617-4161-a336-8aa8a1a44c3a",
   "metadata": {},
   "outputs": [
    {
     "name": "stdout",
     "output_type": "stream",
     "text": [
      "Requirement already satisfied: mysql-connector-python in c:\\users\\vikra\\appdata\\local\\programs\\python\\python312\\lib\\site-packages (8.2.0)\n",
      "Requirement already satisfied: protobuf<=4.21.12,>=4.21.1 in c:\\users\\vikra\\appdata\\local\\programs\\python\\python312\\lib\\site-packages (from mysql-connector-python) (4.21.12)\n"
     ]
    }
   ],
   "source": [
    "# Install mysql-connector\n",
    "!pip install mysql-connector-python"
   ]
  },
  {
   "cell_type": "code",
   "execution_count": 2,
   "id": "b49ff61e-c579-420e-8b10-be87d28acf0f",
   "metadata": {},
   "outputs": [],
   "source": [
    "# Import the connector under the alias connector\n",
    "import mysql.connector as connector"
   ]
  },
  {
   "cell_type": "markdown",
   "id": "cf8f243f-f9b8-4122-9596-1cfeb8143347",
   "metadata": {},
   "source": [
    "### Task 1"
   ]
  },
  {
   "cell_type": "markdown",
   "id": "d9239071-76de-49c1-8298-7158d7ff04bb",
   "metadata": {},
   "source": [
    "In the first task of this exercise, you are tasked with extending the environment to connect with your database and interact with the data it holds. "
   ]
  },
  {
   "cell_type": "code",
   "execution_count": null,
   "id": "f7e3bba4-5ed4-4cf3-adaf-42dc4f2a79a9",
   "metadata": {},
   "outputs": [],
   "source": [
    "# Verify that a connection can be made with your database\n",
    "connection = connector.connect(\n",
    "                               user = \"root\", \n",
    "                               password = \"admin\",\n",
    "                               database = \"littlelemondb\"\n",
    "                               )\n",
    "\n",
    "# Create a cursor object\n",
    "cursor = connection.cursor()\n",
    "\n",
    "# Execute statement for using the database\n",
    "cursor.execute(\"USE littlelemondb\")\n",
    "\n",
    "# Confirm the database is in use\n",
    "connection.database"
   ]
  },
  {
   "cell_type": "markdown",
   "id": "1bb900fc-70ff-4d27-967a-9ac670e003a9",
   "metadata": {},
   "source": [
    "### Task 2"
   ]
  },
  {
   "cell_type": "markdown",
   "id": "a52aefa9-3d9f-4d5c-8eef-0c7a2d24cf10",
   "metadata": {},
   "source": [
    "In this second task, you now need to query the database to show all tables within the database. "
   ]
  },
  {
   "cell_type": "code",
   "execution_count": 14,
   "id": "dd31fac9-81da-442c-b737-43e7ad94b644",
   "metadata": {},
   "outputs": [],
   "source": [
    "# Create SQL query\n",
    "show_tables_query = \"SHOW tables\" \n",
    "\n",
    "# Execute the query\n",
    "cursor.execute(show_tables_query)\n",
    "\n",
    "# Fetch all the results from the cursor\n",
    "results = cursor.fetchall()\n",
    "\n",
    "# Fetch column names\n",
    "cols = cursor.column_names"
   ]
  },
  {
   "cell_type": "code",
   "execution_count": 17,
   "id": "698c8a9f-c434-433e-b7d4-397e8c6463e4",
   "metadata": {},
   "outputs": [
    {
     "name": "stdout",
     "output_type": "stream",
     "text": [
      "Tables_in_littlelemondb\n",
      "bookings\n",
      "customers\n",
      "menuitems\n",
      "menus\n",
      "orderdeliverystatus\n",
      "orders\n",
      "ordersview\n",
      "staff\n"
     ]
    }
   ],
   "source": [
    "# Print the results\n",
    "print(cols[0])\n",
    "for result in results:\n",
    "    print(result[0])"
   ]
  },
  {
   "cell_type": "markdown",
   "id": "50acd9a4-67e8-4365-a9b9-dad081706e53",
   "metadata": {},
   "source": [
    "### Task 3"
   ]
  },
  {
   "cell_type": "markdown",
   "id": "475d5f81-d1a7-4e4c-8c8c-d9016df4d403",
   "metadata": {},
   "source": [
    "For the third and final task, Little Lemon need you to return specific details from your database. They require the full name and contact details for every customer that has placed an order greater than $60 for a promotional campaign. "
   ]
  },
  {
   "cell_type": "code",
   "execution_count": 19,
   "id": "2a793afb-a8e7-4393-8e40-f2eebb069b72",
   "metadata": {},
   "outputs": [],
   "source": [
    "# Create the query\n",
    "select_query = \"\"\"\n",
    "SELECT c.CustomerName, c.PhoneNumber, c.Email\n",
    "FROM orders o\n",
    "INNER JOIN customers c ON o.CustomerID = c.CustomerID\n",
    "WHERE o.Cost > 60\n",
    "\"\"\"\n",
    "\n",
    "# Execute the query\n",
    "cursor.execute(select_query)\n",
    "\n",
    "# Fetch the results\n",
    "results = cursor.fetchall()\n",
    "\n",
    "# Fetch column names\n",
    "cols = cursor.column_names"
   ]
  },
  {
   "cell_type": "code",
   "execution_count": null,
   "id": "220da41b-2cd8-4a44-b4ac-4cdafe7e6ada",
   "metadata": {},
   "outputs": [],
   "source": [
    "# Print the results\n",
    "print(cols)\n",
    "for result in results:\n",
    "    print(result[0])"
   ]
  },
  {
   "cell_type": "code",
   "execution_count": 22,
   "id": "64f808ac-7ffe-48d3-9058-1d5923a8231a",
   "metadata": {},
   "outputs": [
    {
     "name": "stdout",
     "output_type": "stream",
     "text": [
      "Connection closed\n"
     ]
    }
   ],
   "source": [
    "# Close the connection\n",
    "if connection.is_connected():\n",
    "    cursor.close()\n",
    "    connection.close()\n",
    "    print(\"Connection closed\")\n",
    "else:\n",
    "    print(\"No open connections\")"
   ]
  }
 ],
 "metadata": {
  "kernelspec": {
   "display_name": "Python 3 (ipykernel)",
   "language": "python",
   "name": "python3"
  },
  "language_info": {
   "codemirror_mode": {
    "name": "ipython",
    "version": 3
   },
   "file_extension": ".py",
   "mimetype": "text/x-python",
   "name": "python",
   "nbconvert_exporter": "python",
   "pygments_lexer": "ipython3",
   "version": "3.12.0"
  }
 },
 "nbformat": 4,
 "nbformat_minor": 5
}
